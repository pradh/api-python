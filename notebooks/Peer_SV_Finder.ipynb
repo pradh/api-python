{
  "nbformat": 4,
  "nbformat_minor": 0,
  "metadata": {
    "colab": {
      "provenance": [],
      "authorship_tag": "ABX9TyOj9o9FcfNw3RCEEdQfySl9",
      "include_colab_link": true
    },
    "kernelspec": {
      "name": "python3",
      "display_name": "Python 3"
    },
    "language_info": {
      "name": "python"
    }
  },
  "cells": [
    {
      "cell_type": "markdown",
      "metadata": {
        "id": "view-in-github",
        "colab_type": "text"
      },
      "source": [
        "<a href=\"https://colab.research.google.com/github/pradh/api-python/blob/svg/notebooks/Peer_SV_Finder.ipynb\" target=\"_parent\"><img src=\"https://colab.research.google.com/assets/colab-badge.svg\" alt=\"Open In Colab\"/></a>"
      ]
    },
    {
      "cell_type": "markdown",
      "source": [
        "Use this notebook to list peers of a given SV along a specific constraint property.  Peer SVs differ only by a constraint value, with all else (`populationType`, `measuredProperty`, `statType`, etc.) being same."
      ],
      "metadata": {
        "id": "2zZa4sCvbEWr"
      }
    },
    {
      "cell_type": "code",
      "source": [
        "# @title Setup (Run me first once)\n",
        "import pandas as pd\n",
        "\n",
        "def _get_key(row, prop):\n",
        "  nc = int(row['numConstraints'])\n",
        "  key_list = []\n",
        "  for p in ['populationType', 'measuredProperty', 'statType',\n",
        "            'measurementQualifier', 'measurementDenominator']:\n",
        "    if p == prop:\n",
        "      key_list.append('_')\n",
        "    else:\n",
        "      key_list.append(row[p])\n",
        "  for j in range(1, nc + 1):\n",
        "    cp = 'p' + str(j)\n",
        "    cv = 'v' + str(j)\n",
        "    key_list.append(row[cp])\n",
        "    if cv == prop or row[cp] == prop:\n",
        "      key_list.append('_')\n",
        "    else:\n",
        "      key_list.append(row[cv])\n",
        "  return ';'.join(key_list)\n",
        "\n",
        "\n",
        "def load_df():\n",
        "  df = pd.read_csv('https://media.githubusercontent.com/media/pradh/website/nltopics1/tools/nl/analysis/statvar/data/sv_schemaful.csv',\n",
        "                   low_memory=False)\n",
        "  df = df.fillna('')\n",
        "  df = df.set_index('id')\n",
        "  df = df.rename(columns={\n",
        "    'population_type': 'populationType',\n",
        "    'measured_prop': 'measuredProperty',\n",
        "    'stat_type': 'statType',\n",
        "    'measurement_qualifier': 'measurementQualifier',\n",
        "    'measurement_denominator': 'measurementDenominator',\n",
        "    'num_constraints': 'numConstraints',\n",
        "  })\n",
        "  return df\n",
        "\n",
        "\n",
        "def load_map(df):\n",
        "  sv_map = {}\n",
        "  for index, row in df.iterrows():\n",
        "    sv = row.name\n",
        "\n",
        "    for p in ['populationType', 'measuredProperty', 'statType']:\n",
        "      if p not in row:\n",
        "        continue\n",
        "      key = _get_key(row, p)\n",
        "      if key not in sv_map:\n",
        "        sv_map[key] = {}\n",
        "      sv_map[key][sv] = row[p]\n",
        "\n",
        "    nc = int(row['numConstraints'])\n",
        "    for i in range(1, nc + 1):\n",
        "      key = _get_key(row, 'v' + str(i))\n",
        "      if key not in sv_map:\n",
        "        sv_map[key] = {}\n",
        "      cv = row['v' + str(i)]\n",
        "      sv_map[key][sv] = cv\n",
        "  return sv_map\n",
        "\n",
        "\n",
        "def get_def(id):\n",
        "  try:\n",
        "    row = df.loc[id]\n",
        "    nc = int(row['numConstraints'])\n",
        "    res = []\n",
        "    for i in range(1, nc + 1):\n",
        "      cp = 'p' + str(i)\n",
        "      cv = 'v' + str(i)\n",
        "      res.append(f'{row[cp]} ({row[cv]})')\n",
        "    return '\\n'.join(res)\n",
        "  except KeyError as e:\n",
        "    print(f'ERROR: {e} not found!')\n",
        "    return ''\n",
        "\n",
        "\n",
        "def get_peers(id, cprop):\n",
        "  row = df.loc[id]\n",
        "  nc = int(row['numConstraints'])\n",
        "  key = _get_key(row, cprop)\n",
        "  if key not in sv_map:\n",
        "    print(f'ERROR: {cprop} not found!')\n",
        "    return ''\n",
        "  return '\\n'.join([f'{k} ({sv_map[key][k]})' for k in sorted(sv_map[key])])\n",
        "\n",
        "\n",
        "def get_peer_svs(id, cprop):\n",
        "  peers = get_peers(id, cprop)\n",
        "\n",
        "## MAIN ##\n",
        "df = load_df()\n",
        "sv_map = load_map(df)"
      ],
      "metadata": {
        "cellView": "form",
        "id": "wiqD--36cBk-"
      },
      "execution_count": 36,
      "outputs": []
    },
    {
      "cell_type": "code",
      "execution_count": 39,
      "metadata": {
        "colab": {
          "base_uri": "https://localhost:8080/"
        },
        "cellView": "form",
        "id": "eJG1rWTybBbi",
        "outputId": "e1116f26-7d38-4256-e8a6-1bc76a562583"
      },
      "outputs": [
        {
          "output_type": "stream",
          "name": "stdout",
          "text": [
            "CONSTRAINT PROPS (VALS)\n",
            "age (Years16Onwards)\n",
            "commuteTime (MinuteUpto10)\n",
            "employment (USC_EmployedAndWorking)\n",
            "employmentStatus (BLS_InLaborForce)\n",
            "placeOfWork (OutsideOfHome)\n"
          ]
        }
      ],
      "source": [
        "# @title Enter a Variable DCID\n",
        "\n",
        "STAT_VAR = 'dc/jk6hj15v39b0d' #@param {type:\"string\"}\n",
        "\n",
        "print('CONSTRAINT PROPS (VALS)')\n",
        "print(get_def(STAT_VAR))"
      ]
    },
    {
      "cell_type": "code",
      "source": [
        "# @title Enter the constraint property for peers\n",
        "\n",
        "PEER_PROP = 'commuteTime' #@param {type:\"string\"}\n",
        "\n",
        "print('PEER STAT VARS (VALS)')\n",
        "print(get_peers(STAT_VAR, PEER_PROP))"
      ],
      "metadata": {
        "colab": {
          "base_uri": "https://localhost:8080/"
        },
        "cellView": "form",
        "id": "ReSmlujHp93p",
        "outputId": "06d351c6-fe1e-4f04-c95d-9de4dea28889"
      },
      "execution_count": 40,
      "outputs": [
        {
          "output_type": "stream",
          "name": "stdout",
          "text": [
            "PEER STAT VARS (VALS)\n",
            "dc/0mk1gv9me1cn (Minute20To24)\n",
            "dc/2r6wbwvbkrz23 (Minute60Onwards)\n",
            "dc/ddyrfe05v5347 (Minute15To19)\n",
            "dc/e0zlyvx7twnr2 (Minute30To34)\n",
            "dc/hntm9bl6g1gn5 (Minute35To44)\n",
            "dc/jk6hj15v39b0d (MinuteUpto10)\n",
            "dc/qkm5qdj8rqf5h (Minute45To59)\n",
            "dc/xejg6s76dxle2 (Minute25To29)\n",
            "dc/z00r6r95rb066 (Minute10To14)\n"
          ]
        }
      ]
    }
  ]
}