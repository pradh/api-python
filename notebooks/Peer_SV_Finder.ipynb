{
  "nbformat": 4,
  "nbformat_minor": 0,
  "metadata": {
    "colab": {
      "provenance": [],
      "authorship_tag": "ABX9TyMx5bKaNnGIBLPmqlgoGpu+",
      "include_colab_link": true
    },
    "kernelspec": {
      "name": "python3",
      "display_name": "Python 3"
    },
    "language_info": {
      "name": "python"
    }
  },
  "cells": [
    {
      "cell_type": "markdown",
      "metadata": {
        "id": "view-in-github",
        "colab_type": "text"
      },
      "source": [
        "<a href=\"https://colab.research.google.com/github/pradh/api-python/blob/svg/notebooks/Peer_SV_Finder.ipynb\" target=\"_parent\"><img src=\"https://colab.research.google.com/assets/colab-badge.svg\" alt=\"Open In Colab\"/></a>"
      ]
    },
    {
      "cell_type": "markdown",
      "source": [
        "Use this notebook to list peers of a given SV along a specific constraint property.  Peer SVs differ only by a constraint value, with all else (`populationType`, `measuredProperty`, `statType`, etc.) being same."
      ],
      "metadata": {
        "id": "2zZa4sCvbEWr"
      }
    },
    {
      "cell_type": "code",
      "source": [
        "# @title Setup (Run me first once)\n",
        "import pandas as pd\n",
        "\n",
        "def _get_key(row, i):\n",
        "  nc = int(row['num_constraints'])\n",
        "  key_list = [\n",
        "      row['population_type'], row['measured_prop'], row['stat_type'],\n",
        "      row['measurement_qualifier'], row['measurement_denominator']\n",
        "  ]\n",
        "  for j in range(1, nc + 1):\n",
        "    cp = 'p' + str(j)\n",
        "    cv = 'v' + str(j)\n",
        "    key_list.append(row[cp])\n",
        "    if i == j:\n",
        "      key_list.append('_')\n",
        "    else:\n",
        "      key_list.append(row[cv])\n",
        "  return ';'.join(key_list)\n",
        "\n",
        "\n",
        "def load_df():\n",
        "  df = pd.read_csv('https://media.githubusercontent.com/media/pradh/website/nltopics1/tools/nl/analysis/statvar/data/sv_schemaful.csv',\n",
        "                   low_memory=False)\n",
        "  df = df.fillna('')\n",
        "  df = df.set_index('id')\n",
        "  return df\n",
        "\n",
        "\n",
        "def load_map(df):\n",
        "  sv_map = {}\n",
        "  for index, row in df.iterrows():\n",
        "    sv = row.name\n",
        "    nc = int(row['num_constraints'])\n",
        "    for i in range(1, nc + 1):\n",
        "      key = _get_key(row, i)\n",
        "      if key not in sv_map:\n",
        "        sv_map[key] = set()\n",
        "      sv_map[key].add(sv)\n",
        "  return sv_map\n",
        "\n",
        "\n",
        "def get_def(id):\n",
        "  try:\n",
        "    row = df.loc[id]\n",
        "    nc = int(row['num_constraints'])\n",
        "    res = []\n",
        "    for i in range(1, nc + 1):\n",
        "      cp = 'p' + str(i)\n",
        "      cv = 'v' + str(i)\n",
        "      res.append(f'{row[cp]} ({row[cv]})')\n",
        "    return '\\n'.join(res)\n",
        "  except KeyError as e:\n",
        "    print(f'ERROR: {e} not found!')\n",
        "    return ''\n",
        "\n",
        "\n",
        "def get_peers(id, cprop):\n",
        "  row = df.loc[id]\n",
        "  nc = int(row['num_constraints'])\n",
        "  idx = -1\n",
        "  for i in range(1, nc + 1):\n",
        "    cp = 'p' + str(i)\n",
        "    if row[cp] == cprop:\n",
        "      idx = i\n",
        "      break\n",
        "  if idx == -1:\n",
        "    return ''\n",
        "  key = _get_key(row, idx)\n",
        "  return '\\n'.join(sorted(sv_map[key]))\n",
        "\n",
        "\n",
        "def get_peer_svs(id, cprop):\n",
        "  peers = get_peers(id, cprop)\n",
        "\n",
        "## MAIN ##\n",
        "df = load_df()\n",
        "sv_map = load_map(df)"
      ],
      "metadata": {
        "cellView": "form",
        "id": "wiqD--36cBk-"
      },
      "execution_count": 90,
      "outputs": []
    },
    {
      "cell_type": "code",
      "execution_count": 82,
      "metadata": {
        "colab": {
          "base_uri": "https://localhost:8080/"
        },
        "cellView": "form",
        "id": "eJG1rWTybBbi",
        "outputId": "3e692b47-2718-4778-a7a9-19d0e71408b2"
      },
      "outputs": [
        {
          "output_type": "stream",
          "name": "stdout",
          "text": [
            "CONSTRAINT_PROPS (VALS)\n",
            "workCategory (AgriculturalLabourers)\n",
            "workPeriod (Month3To6)\n",
            "workerClassification (MarginalWorker)\n",
            "workerStatus (Worker)\n"
          ]
        }
      ],
      "source": [
        "# @title Enter a Variable DCID\n",
        "\n",
        "STAT_VAR = 'Count_Person_MarginalWorker_AgriculturalLabourers_Worked3To6Months' #@param {type:\"string\"}\n",
        "\n",
        "print('CONSTRAINT_PROPS (VALS)')\n",
        "print(get_def(STAT_VAR))"
      ]
    },
    {
      "cell_type": "code",
      "source": [
        "# @title Enter the constraint property for peers\n",
        "\n",
        "CONSTRAINT_PROP = 'workCategory' #@param {type:\"string\"}\n",
        "\n",
        "print('PEERS')\n",
        "print(get_peers(STAT_VAR, CONSTRAINT_PROP))"
      ],
      "metadata": {
        "colab": {
          "base_uri": "https://localhost:8080/"
        },
        "cellView": "form",
        "id": "ReSmlujHp93p",
        "outputId": "3cdf2c80-ff58-46b8-a66e-4a4c38b5584b"
      },
      "execution_count": 87,
      "outputs": [
        {
          "output_type": "stream",
          "name": "stdout",
          "text": [
            "PEERS\n",
            "Count_Person_MarginalWorker_AgriculturalLabourers_Worked3To6Months\n",
            "Count_Person_MarginalWorker_Cultivators_Worked3To6Months\n",
            "Count_Person_MarginalWorker_HouseholdIndustries_Worked3To6Months\n",
            "Count_Person_MarginalWorker_OtherWorkers_Worked3To6Months\n"
          ]
        }
      ]
    }
  ]
}